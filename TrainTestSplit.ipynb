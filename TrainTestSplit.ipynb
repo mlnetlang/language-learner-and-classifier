{
 "cells": [
  {
   "cell_type": "code",
   "execution_count": 1,
   "metadata": {},
   "outputs": [],
   "source": [
    "import random\n",
    "import glob\n",
    "import os"
   ]
  },
  {
   "cell_type": "code",
   "execution_count": 2,
   "metadata": {},
   "outputs": [],
   "source": [
    "\n",
    "dataPath ='OneFold/data/'\n",
    "trainPath = 'OneFold/Train/'\n",
    "testPath = 'OneFold/Test/'\n",
    "p=0.5"
   ]
  },
  {
   "cell_type": "code",
   "execution_count": 3,
   "metadata": {},
   "outputs": [],
   "source": [
    "def clearFolder(path):\n",
    "    for f in os.listdir(path):\n",
    "        os.remove(os.path.join(path, f))"
   ]
  },
  {
   "cell_type": "code",
   "execution_count": 4,
   "metadata": {},
   "outputs": [],
   "source": [
    "# Read txt file of symbols and change it to a dictionary of data which has key:position and value:symbol\n",
    "#bold batch position by \"-\"\n",
    "def data_to_dict(data):\n",
    "    data = enumerate(data.strip().split(' '))\n",
    "    data_dict = dict((i, j) for i, j in data)\n",
    "    return data_dict"
   ]
  },
  {
   "cell_type": "code",
   "execution_count": 5,
   "metadata": {},
   "outputs": [],
   "source": [
    "def read_data(file):\n",
    "    with open(file, \"r\") as f:\n",
    "        data=f.read().replace(\" | \", \" \")\n",
    "        data = data.split('\\n')\n",
    "        data = [line for line in data if line.strip() != \"\"]\n",
    "    return data"
   ]
  },
  {
   "cell_type": "code",
   "execution_count": 6,
   "metadata": {},
   "outputs": [],
   "source": [
    "def get_key(val,my_dict):\n",
    "    keys=list()\n",
    "    for key, value in my_dict.items():\n",
    "         if val == value:\n",
    "              keys.append(key)\n",
    "#     print(keys)\n",
    "    return keys"
   ]
  },
  {
   "cell_type": "code",
   "execution_count": 7,
   "metadata": {},
   "outputs": [],
   "source": [
    "def write_text(data,path):\n",
    "    with open(path, \"w+\", encoding=\"utf-8\") as fo:\n",
    "        for d in data:\n",
    "            d=list(d.values())\n",
    "            fo.write(\" \".join(str(i) for i in d))\n",
    "            fo.write('\\n')"
   ]
  },
  {
   "cell_type": "code",
   "execution_count": 8,
   "metadata": {},
   "outputs": [],
   "source": [
    "def spilit_segments_of_chunks(file,chunks,k,p,l):\n",
    "#     print(file)\n",
    "    intersection_prc={}\n",
    "    test_dict = dict()\n",
    "    train_dict = dict()\n",
    "    for chunk in chunks:\n",
    "#         print(chunk)\n",
    "        symbols=list(chunk.keys())\n",
    "        segments_keys= [symbols[i:i + k] for i in range(0, len(symbols), k)]\n",
    "\n",
    "        for j in segments_keys:\n",
    "            rndm = random.random()\n",
    "            d = {i: chunk[i] for i in j}\n",
    "            if rndm >= p:\n",
    "                test_dict.update(d)\n",
    "                # test_count += 1\n",
    "            else:\n",
    "                train_dict.update(d)\n",
    "        segments_keys=list()\n",
    "    prc=len(set(test_dict.keys()).intersection(set(train_dict.keys())))/l\n",
    "    intersection_prc[file]=prc\n",
    "#     print(len(train_dict))\n",
    "#     print(len(test_dict))\n",
    "#     print(\"---------------\")\n",
    "    return test_dict,train_dict\n",
    "\n",
    "    "
   ]
  },
  {
   "cell_type": "code",
   "execution_count": 9,
   "metadata": {},
   "outputs": [],
   "source": [
    "# Chunks is list of n chunks of data: each chunk is a dictionary of key:position and value:symbol\n",
    "# Chunks=[{},{},...,{}]\n",
    "def chunke_data(data,keys,k,file):\n",
    "#     print(data)\n",
    "#     print(type(data))\n",
    "    chunks=[]\n",
    "    pre_key=0\n",
    "    for key in keys:\n",
    "        if(pre_key==0):\n",
    "            chunks.append({key: data[key] for key in range(pre_key, min(key, len(data)))})\n",
    "        else:\n",
    "            temp=dict()\n",
    "            temp={key: data[key] for key in range(max(0,pre_key), min(key, len(data)))}\n",
    "            del temp[pre_key]\n",
    "            chunks.append(temp)\n",
    "        pre_key=key\n",
    "    temp=dict()\n",
    "#     temp={key: data[key] for key in range(max(0,pre_key), len(data))}\n",
    "#     del temp[pre_key]\n",
    "    chunks.append(temp)\n",
    "\n",
    "    return chunks"
   ]
  },
  {
   "cell_type": "code",
   "execution_count": 10,
   "metadata": {},
   "outputs": [],
   "source": [
    "def run(folder,k,p,train_folder,test_folder):\n",
    "    for file in glob.glob(folder+\"*.txt\"):\n",
    "        train=[]\n",
    "        test=[]\n",
    "        data=read_data(file)\n",
    "        for line in data:\n",
    "            d=data_to_dict(line)\n",
    "#             keys=get_key(\"|\",d)\n",
    "#             print(keys)\n",
    "            keys=[10000000000000000000000000000]\n",
    "            d_test,d_train=spilit_segments_of_chunks(file,chunke_data(d,keys,k,file), k, p,len(d))\n",
    "            test.append(d_test)\n",
    "            train.append(d_train)\n",
    "        write_text(test,test_folder+os.path.basename(file))\n",
    "        write_text(train,train_folder+os.path.basename(file))\n",
    "#         write_text(test,test_folder1+str(file))\n",
    "#         write_text(train,train_folder1+str(file))\n"
   ]
  },
  {
   "cell_type": "code",
   "execution_count": 11,
   "metadata": {},
   "outputs": [],
   "source": [
    "clearFolder(trainPath)\n",
    "clearFolder(testPath)\n",
    "intersection_prc={}\n",
    "run(dataPath,3,p,trainPath,testPath)"
   ]
  },
  {
   "cell_type": "code",
   "execution_count": null,
   "metadata": {},
   "outputs": [],
   "source": []
  }
 ],
 "metadata": {
  "kernelspec": {
   "display_name": "Python 3 (ipykernel)",
   "language": "python",
   "name": "python3"
  },
  "language_info": {
   "codemirror_mode": {
    "name": "ipython",
    "version": 3
   },
   "file_extension": ".py",
   "mimetype": "text/x-python",
   "name": "python",
   "nbconvert_exporter": "python",
   "pygments_lexer": "ipython3",
   "version": "3.11.1"
  }
 },
 "nbformat": 4,
 "nbformat_minor": 4
}
